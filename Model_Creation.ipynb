{
  "nbformat": 4,
  "nbformat_minor": 0,
  "metadata": {
    "colab": {
      "provenance": []
    },
    "kernelspec": {
      "name": "python3",
      "display_name": "Python 3"
    },
    "language_info": {
      "name": "python"
    },
    "gpuClass": "standard"
  },
  "cells": [
    {
      "cell_type": "code",
      "execution_count": null,
      "metadata": {
        "id": "OeMe29AW1ESb"
      },
      "outputs": [],
      "source": [
        "import numpy as np\n",
        "import pandas as pd\n",
        "import matplotlib.pyplot as plt\n",
        "import seaborn as sns\n",
        "from sklearn.preprocessing import OrdinalEncoder\n",
        "import warnings\n",
        "warnings.simplefilter(action='ignore', category=FutureWarning)\n",
        "warnings.filterwarnings('ignore')"
      ]
    },
    {
      "cell_type": "code",
      "source": [
        "df=pd.read_csv(\"/content/drive/MyDrive/archive (5)/Trojan_Detection.csv\")\n",
        "df.head()"
      ],
      "metadata": {
        "id": "gXHbE75G1Ja-",
        "colab": {
          "base_uri": "https://localhost:8080/",
          "height": 507
        },
        "outputId": "57364470-1968-463e-dd51-9402661d2980"
      },
      "execution_count": null,
      "outputs": [
        {
          "output_type": "execute_result",
          "data": {
            "text/plain": [
              "   Unnamed: 0                                Flow ID    Source IP  \\\n",
              "0       73217    10.42.0.42-121.14.255.84-49975-80-6   10.42.0.42   \n",
              "1       72089  172.217.6.226-10.42.0.42-443-49169-17   10.42.0.42   \n",
              "2       96676       10.42.0.1-10.42.0.42-53-37749-17   10.42.0.42   \n",
              "3       42891       10.42.0.1-10.42.0.42-53-41352-17   10.42.0.42   \n",
              "4      169326  10.42.0.151-107.22.241.77-44353-443-6  10.42.0.151   \n",
              "\n",
              "    Source Port  Destination IP   Destination Port   Protocol  \\\n",
              "0         49975   121.14.255.84                 80          6   \n",
              "1         49169   172.217.6.226                443         17   \n",
              "2         37749       10.42.0.1                 53         17   \n",
              "3         41352       10.42.0.1                 53         17   \n",
              "4         44353   107.22.241.77                443          6   \n",
              "\n",
              "             Timestamp   Flow Duration   Total Fwd Packets  ...  \\\n",
              "0  17/07/2017 01:18:33        10743584                   4  ...   \n",
              "1  17/07/2017 10:25:25          254217                   6  ...   \n",
              "2  30/06/2017 07:16:12         1023244                   1  ...   \n",
              "3  13/07/2017 03:48:44          286483                   1  ...   \n",
              "4  05/07/2017 10:47:35        65633087                  12  ...   \n",
              "\n",
              "    min_seg_size_forward  Active Mean   Active Std   Active Max   Active Min  \\\n",
              "0                     20          0.0          0.0          0.0          0.0   \n",
              "1                     20          0.0          0.0          0.0          0.0   \n",
              "2                     32          0.0          0.0          0.0          0.0   \n",
              "3                     20          0.0          0.0          0.0          0.0   \n",
              "4                     32     322594.0          0.0     322594.0     322594.0   \n",
              "\n",
              "    Idle Mean   Idle Std    Idle Max    Idle Min   Class  \n",
              "0         0.0        0.0         0.0         0.0  Trojan  \n",
              "1         0.0        0.0         0.0         0.0  Trojan  \n",
              "2         0.0        0.0         0.0         0.0  Benign  \n",
              "3         0.0        0.0         0.0         0.0  Trojan  \n",
              "4  60306983.0        0.0  60306983.0  60306983.0  Benign  \n",
              "\n",
              "[5 rows x 86 columns]"
            ],
            "text/html": [
              "\n",
              "  <div id=\"df-5c299a7d-af1f-4fc7-86fc-97fe1d002f9a\">\n",
              "    <div class=\"colab-df-container\">\n",
              "      <div>\n",
              "<style scoped>\n",
              "    .dataframe tbody tr th:only-of-type {\n",
              "        vertical-align: middle;\n",
              "    }\n",
              "\n",
              "    .dataframe tbody tr th {\n",
              "        vertical-align: top;\n",
              "    }\n",
              "\n",
              "    .dataframe thead th {\n",
              "        text-align: right;\n",
              "    }\n",
              "</style>\n",
              "<table border=\"1\" class=\"dataframe\">\n",
              "  <thead>\n",
              "    <tr style=\"text-align: right;\">\n",
              "      <th></th>\n",
              "      <th>Unnamed: 0</th>\n",
              "      <th>Flow ID</th>\n",
              "      <th>Source IP</th>\n",
              "      <th>Source Port</th>\n",
              "      <th>Destination IP</th>\n",
              "      <th>Destination Port</th>\n",
              "      <th>Protocol</th>\n",
              "      <th>Timestamp</th>\n",
              "      <th>Flow Duration</th>\n",
              "      <th>Total Fwd Packets</th>\n",
              "      <th>...</th>\n",
              "      <th>min_seg_size_forward</th>\n",
              "      <th>Active Mean</th>\n",
              "      <th>Active Std</th>\n",
              "      <th>Active Max</th>\n",
              "      <th>Active Min</th>\n",
              "      <th>Idle Mean</th>\n",
              "      <th>Idle Std</th>\n",
              "      <th>Idle Max</th>\n",
              "      <th>Idle Min</th>\n",
              "      <th>Class</th>\n",
              "    </tr>\n",
              "  </thead>\n",
              "  <tbody>\n",
              "    <tr>\n",
              "      <th>0</th>\n",
              "      <td>73217</td>\n",
              "      <td>10.42.0.42-121.14.255.84-49975-80-6</td>\n",
              "      <td>10.42.0.42</td>\n",
              "      <td>49975</td>\n",
              "      <td>121.14.255.84</td>\n",
              "      <td>80</td>\n",
              "      <td>6</td>\n",
              "      <td>17/07/2017 01:18:33</td>\n",
              "      <td>10743584</td>\n",
              "      <td>4</td>\n",
              "      <td>...</td>\n",
              "      <td>20</td>\n",
              "      <td>0.0</td>\n",
              "      <td>0.0</td>\n",
              "      <td>0.0</td>\n",
              "      <td>0.0</td>\n",
              "      <td>0.0</td>\n",
              "      <td>0.0</td>\n",
              "      <td>0.0</td>\n",
              "      <td>0.0</td>\n",
              "      <td>Trojan</td>\n",
              "    </tr>\n",
              "    <tr>\n",
              "      <th>1</th>\n",
              "      <td>72089</td>\n",
              "      <td>172.217.6.226-10.42.0.42-443-49169-17</td>\n",
              "      <td>10.42.0.42</td>\n",
              "      <td>49169</td>\n",
              "      <td>172.217.6.226</td>\n",
              "      <td>443</td>\n",
              "      <td>17</td>\n",
              "      <td>17/07/2017 10:25:25</td>\n",
              "      <td>254217</td>\n",
              "      <td>6</td>\n",
              "      <td>...</td>\n",
              "      <td>20</td>\n",
              "      <td>0.0</td>\n",
              "      <td>0.0</td>\n",
              "      <td>0.0</td>\n",
              "      <td>0.0</td>\n",
              "      <td>0.0</td>\n",
              "      <td>0.0</td>\n",
              "      <td>0.0</td>\n",
              "      <td>0.0</td>\n",
              "      <td>Trojan</td>\n",
              "    </tr>\n",
              "    <tr>\n",
              "      <th>2</th>\n",
              "      <td>96676</td>\n",
              "      <td>10.42.0.1-10.42.0.42-53-37749-17</td>\n",
              "      <td>10.42.0.42</td>\n",
              "      <td>37749</td>\n",
              "      <td>10.42.0.1</td>\n",
              "      <td>53</td>\n",
              "      <td>17</td>\n",
              "      <td>30/06/2017 07:16:12</td>\n",
              "      <td>1023244</td>\n",
              "      <td>1</td>\n",
              "      <td>...</td>\n",
              "      <td>32</td>\n",
              "      <td>0.0</td>\n",
              "      <td>0.0</td>\n",
              "      <td>0.0</td>\n",
              "      <td>0.0</td>\n",
              "      <td>0.0</td>\n",
              "      <td>0.0</td>\n",
              "      <td>0.0</td>\n",
              "      <td>0.0</td>\n",
              "      <td>Benign</td>\n",
              "    </tr>\n",
              "    <tr>\n",
              "      <th>3</th>\n",
              "      <td>42891</td>\n",
              "      <td>10.42.0.1-10.42.0.42-53-41352-17</td>\n",
              "      <td>10.42.0.42</td>\n",
              "      <td>41352</td>\n",
              "      <td>10.42.0.1</td>\n",
              "      <td>53</td>\n",
              "      <td>17</td>\n",
              "      <td>13/07/2017 03:48:44</td>\n",
              "      <td>286483</td>\n",
              "      <td>1</td>\n",
              "      <td>...</td>\n",
              "      <td>20</td>\n",
              "      <td>0.0</td>\n",
              "      <td>0.0</td>\n",
              "      <td>0.0</td>\n",
              "      <td>0.0</td>\n",
              "      <td>0.0</td>\n",
              "      <td>0.0</td>\n",
              "      <td>0.0</td>\n",
              "      <td>0.0</td>\n",
              "      <td>Trojan</td>\n",
              "    </tr>\n",
              "    <tr>\n",
              "      <th>4</th>\n",
              "      <td>169326</td>\n",
              "      <td>10.42.0.151-107.22.241.77-44353-443-6</td>\n",
              "      <td>10.42.0.151</td>\n",
              "      <td>44353</td>\n",
              "      <td>107.22.241.77</td>\n",
              "      <td>443</td>\n",
              "      <td>6</td>\n",
              "      <td>05/07/2017 10:47:35</td>\n",
              "      <td>65633087</td>\n",
              "      <td>12</td>\n",
              "      <td>...</td>\n",
              "      <td>32</td>\n",
              "      <td>322594.0</td>\n",
              "      <td>0.0</td>\n",
              "      <td>322594.0</td>\n",
              "      <td>322594.0</td>\n",
              "      <td>60306983.0</td>\n",
              "      <td>0.0</td>\n",
              "      <td>60306983.0</td>\n",
              "      <td>60306983.0</td>\n",
              "      <td>Benign</td>\n",
              "    </tr>\n",
              "  </tbody>\n",
              "</table>\n",
              "<p>5 rows × 86 columns</p>\n",
              "</div>\n",
              "      <button class=\"colab-df-convert\" onclick=\"convertToInteractive('df-5c299a7d-af1f-4fc7-86fc-97fe1d002f9a')\"\n",
              "              title=\"Convert this dataframe to an interactive table.\"\n",
              "              style=\"display:none;\">\n",
              "        \n",
              "  <svg xmlns=\"http://www.w3.org/2000/svg\" height=\"24px\"viewBox=\"0 0 24 24\"\n",
              "       width=\"24px\">\n",
              "    <path d=\"M0 0h24v24H0V0z\" fill=\"none\"/>\n",
              "    <path d=\"M18.56 5.44l.94 2.06.94-2.06 2.06-.94-2.06-.94-.94-2.06-.94 2.06-2.06.94zm-11 1L8.5 8.5l.94-2.06 2.06-.94-2.06-.94L8.5 2.5l-.94 2.06-2.06.94zm10 10l.94 2.06.94-2.06 2.06-.94-2.06-.94-.94-2.06-.94 2.06-2.06.94z\"/><path d=\"M17.41 7.96l-1.37-1.37c-.4-.4-.92-.59-1.43-.59-.52 0-1.04.2-1.43.59L10.3 9.45l-7.72 7.72c-.78.78-.78 2.05 0 2.83L4 21.41c.39.39.9.59 1.41.59.51 0 1.02-.2 1.41-.59l7.78-7.78 2.81-2.81c.8-.78.8-2.07 0-2.86zM5.41 20L4 18.59l7.72-7.72 1.47 1.35L5.41 20z\"/>\n",
              "  </svg>\n",
              "      </button>\n",
              "      \n",
              "  <style>\n",
              "    .colab-df-container {\n",
              "      display:flex;\n",
              "      flex-wrap:wrap;\n",
              "      gap: 12px;\n",
              "    }\n",
              "\n",
              "    .colab-df-convert {\n",
              "      background-color: #E8F0FE;\n",
              "      border: none;\n",
              "      border-radius: 50%;\n",
              "      cursor: pointer;\n",
              "      display: none;\n",
              "      fill: #1967D2;\n",
              "      height: 32px;\n",
              "      padding: 0 0 0 0;\n",
              "      width: 32px;\n",
              "    }\n",
              "\n",
              "    .colab-df-convert:hover {\n",
              "      background-color: #E2EBFA;\n",
              "      box-shadow: 0px 1px 2px rgba(60, 64, 67, 0.3), 0px 1px 3px 1px rgba(60, 64, 67, 0.15);\n",
              "      fill: #174EA6;\n",
              "    }\n",
              "\n",
              "    [theme=dark] .colab-df-convert {\n",
              "      background-color: #3B4455;\n",
              "      fill: #D2E3FC;\n",
              "    }\n",
              "\n",
              "    [theme=dark] .colab-df-convert:hover {\n",
              "      background-color: #434B5C;\n",
              "      box-shadow: 0px 1px 3px 1px rgba(0, 0, 0, 0.15);\n",
              "      filter: drop-shadow(0px 1px 2px rgba(0, 0, 0, 0.3));\n",
              "      fill: #FFFFFF;\n",
              "    }\n",
              "  </style>\n",
              "\n",
              "      <script>\n",
              "        const buttonEl =\n",
              "          document.querySelector('#df-5c299a7d-af1f-4fc7-86fc-97fe1d002f9a button.colab-df-convert');\n",
              "        buttonEl.style.display =\n",
              "          google.colab.kernel.accessAllowed ? 'block' : 'none';\n",
              "\n",
              "        async function convertToInteractive(key) {\n",
              "          const element = document.querySelector('#df-5c299a7d-af1f-4fc7-86fc-97fe1d002f9a');\n",
              "          const dataTable =\n",
              "            await google.colab.kernel.invokeFunction('convertToInteractive',\n",
              "                                                     [key], {});\n",
              "          if (!dataTable) return;\n",
              "\n",
              "          const docLinkHtml = 'Like what you see? Visit the ' +\n",
              "            '<a target=\"_blank\" href=https://colab.research.google.com/notebooks/data_table.ipynb>data table notebook</a>'\n",
              "            + ' to learn more about interactive tables.';\n",
              "          element.innerHTML = '';\n",
              "          dataTable['output_type'] = 'display_data';\n",
              "          await google.colab.output.renderOutput(dataTable, element);\n",
              "          const docLink = document.createElement('div');\n",
              "          docLink.innerHTML = docLinkHtml;\n",
              "          element.appendChild(docLink);\n",
              "        }\n",
              "      </script>\n",
              "    </div>\n",
              "  </div>\n",
              "  "
            ]
          },
          "metadata": {},
          "execution_count": 2
        }
      ]
    },
    {
      "cell_type": "code",
      "source": [
        "df = df.dropna()"
      ],
      "metadata": {
        "id": "zflXqpmH1LvV"
      },
      "execution_count": null,
      "outputs": []
    },
    {
      "cell_type": "code",
      "source": [
        "np.sum(df.isna())"
      ],
      "metadata": {
        "id": "oHO0lXcO1bn_",
        "colab": {
          "base_uri": "https://localhost:8080/"
        },
        "outputId": "5ecd4950-c7c2-42c9-acd2-3d10773c78d7"
      },
      "execution_count": null,
      "outputs": [
        {
          "output_type": "execute_result",
          "data": {
            "text/plain": [
              "Unnamed: 0         0\n",
              "Flow ID            0\n",
              " Source IP         0\n",
              " Source Port       0\n",
              " Destination IP    0\n",
              "                  ..\n",
              "Idle Mean          0\n",
              " Idle Std          0\n",
              " Idle Max          0\n",
              " Idle Min          0\n",
              "Class              0\n",
              "Length: 86, dtype: int64"
            ]
          },
          "metadata": {},
          "execution_count": 4
        }
      ]
    },
    {
      "cell_type": "code",
      "source": [
        "# df.drop(columns=['Unnamed: 0'],inplace=True)"
      ],
      "metadata": {
        "id": "T_nyY8hH1jsq"
      },
      "execution_count": null,
      "outputs": []
    },
    {
      "cell_type": "code",
      "source": [
        "df.info()"
      ],
      "metadata": {
        "id": "TJC9xTwH1tNl",
        "colab": {
          "base_uri": "https://localhost:8080/"
        },
        "outputId": "9d3418c0-b0d2-439a-9ab3-2bb0ff465968"
      },
      "execution_count": null,
      "outputs": [
        {
          "output_type": "stream",
          "name": "stdout",
          "text": [
            "<class 'pandas.core.frame.DataFrame'>\n",
            "RangeIndex: 177482 entries, 0 to 177481\n",
            "Data columns (total 86 columns):\n",
            " #   Column                        Non-Null Count   Dtype  \n",
            "---  ------                        --------------   -----  \n",
            " 0   Unnamed: 0                    177482 non-null  int64  \n",
            " 1   Flow ID                       177482 non-null  object \n",
            " 2    Source IP                    177482 non-null  object \n",
            " 3    Source Port                  177482 non-null  int64  \n",
            " 4    Destination IP               177482 non-null  object \n",
            " 5    Destination Port             177482 non-null  int64  \n",
            " 6    Protocol                     177482 non-null  int64  \n",
            " 7    Timestamp                    177482 non-null  object \n",
            " 8    Flow Duration                177482 non-null  int64  \n",
            " 9    Total Fwd Packets            177482 non-null  int64  \n",
            " 10   Total Backward Packets       177482 non-null  int64  \n",
            " 11  Total Length of Fwd Packets   177482 non-null  float64\n",
            " 12   Total Length of Bwd Packets  177482 non-null  float64\n",
            " 13   Fwd Packet Length Max        177482 non-null  float64\n",
            " 14   Fwd Packet Length Min        177482 non-null  float64\n",
            " 15   Fwd Packet Length Mean       177482 non-null  float64\n",
            " 16   Fwd Packet Length Std        177482 non-null  float64\n",
            " 17  Bwd Packet Length Max         177482 non-null  float64\n",
            " 18   Bwd Packet Length Min        177482 non-null  float64\n",
            " 19   Bwd Packet Length Mean       177482 non-null  float64\n",
            " 20   Bwd Packet Length Std        177482 non-null  float64\n",
            " 21  Flow Bytes/s                  177482 non-null  float64\n",
            " 22   Flow Packets/s               177482 non-null  float64\n",
            " 23   Flow IAT Mean                177482 non-null  float64\n",
            " 24   Flow IAT Std                 177482 non-null  float64\n",
            " 25   Flow IAT Max                 177482 non-null  float64\n",
            " 26   Flow IAT Min                 177482 non-null  float64\n",
            " 27  Fwd IAT Total                 177482 non-null  float64\n",
            " 28   Fwd IAT Mean                 177482 non-null  float64\n",
            " 29   Fwd IAT Std                  177482 non-null  float64\n",
            " 30   Fwd IAT Max                  177482 non-null  float64\n",
            " 31   Fwd IAT Min                  177482 non-null  float64\n",
            " 32  Bwd IAT Total                 177482 non-null  float64\n",
            " 33   Bwd IAT Mean                 177482 non-null  float64\n",
            " 34   Bwd IAT Std                  177482 non-null  float64\n",
            " 35   Bwd IAT Max                  177482 non-null  float64\n",
            " 36   Bwd IAT Min                  177482 non-null  float64\n",
            " 37  Fwd PSH Flags                 177482 non-null  int64  \n",
            " 38   Bwd PSH Flags                177482 non-null  int64  \n",
            " 39   Fwd URG Flags                177482 non-null  int64  \n",
            " 40   Bwd URG Flags                177482 non-null  int64  \n",
            " 41   Fwd Header Length            177482 non-null  int64  \n",
            " 42   Bwd Header Length            177482 non-null  int64  \n",
            " 43  Fwd Packets/s                 177482 non-null  float64\n",
            " 44   Bwd Packets/s                177482 non-null  float64\n",
            " 45   Min Packet Length            177482 non-null  float64\n",
            " 46   Max Packet Length            177482 non-null  float64\n",
            " 47   Packet Length Mean           177482 non-null  float64\n",
            " 48   Packet Length Std            177482 non-null  float64\n",
            " 49   Packet Length Variance       177482 non-null  float64\n",
            " 50  FIN Flag Count                177482 non-null  int64  \n",
            " 51   SYN Flag Count               177482 non-null  int64  \n",
            " 52   RST Flag Count               177482 non-null  int64  \n",
            " 53   PSH Flag Count               177482 non-null  int64  \n",
            " 54   ACK Flag Count               177482 non-null  int64  \n",
            " 55   URG Flag Count               177482 non-null  int64  \n",
            " 56   CWE Flag Count               177482 non-null  int64  \n",
            " 57   ECE Flag Count               177482 non-null  int64  \n",
            " 58   Down/Up Ratio                177482 non-null  float64\n",
            " 59   Average Packet Size          177482 non-null  float64\n",
            " 60   Avg Fwd Segment Size         177482 non-null  float64\n",
            " 61   Avg Bwd Segment Size         177482 non-null  float64\n",
            " 62   Fwd Header Length.1          177482 non-null  int64  \n",
            " 63  Fwd Avg Bytes/Bulk            177482 non-null  int64  \n",
            " 64   Fwd Avg Packets/Bulk         177482 non-null  int64  \n",
            " 65   Fwd Avg Bulk Rate            177482 non-null  int64  \n",
            " 66   Bwd Avg Bytes/Bulk           177482 non-null  int64  \n",
            " 67   Bwd Avg Packets/Bulk         177482 non-null  int64  \n",
            " 68  Bwd Avg Bulk Rate             177482 non-null  int64  \n",
            " 69  Subflow Fwd Packets           177482 non-null  int64  \n",
            " 70   Subflow Fwd Bytes            177482 non-null  int64  \n",
            " 71   Subflow Bwd Packets          177482 non-null  int64  \n",
            " 72   Subflow Bwd Bytes            177482 non-null  int64  \n",
            " 73  Init_Win_bytes_forward        177482 non-null  int64  \n",
            " 74   Init_Win_bytes_backward      177482 non-null  int64  \n",
            " 75   act_data_pkt_fwd             177482 non-null  int64  \n",
            " 76   min_seg_size_forward         177482 non-null  int64  \n",
            " 77  Active Mean                   177482 non-null  float64\n",
            " 78   Active Std                   177482 non-null  float64\n",
            " 79   Active Max                   177482 non-null  float64\n",
            " 80   Active Min                   177482 non-null  float64\n",
            " 81  Idle Mean                     177482 non-null  float64\n",
            " 82   Idle Std                     177482 non-null  float64\n",
            " 83   Idle Max                     177482 non-null  float64\n",
            " 84   Idle Min                     177482 non-null  float64\n",
            " 85  Class                         177482 non-null  object \n",
            "dtypes: float64(45), int64(36), object(5)\n",
            "memory usage: 116.5+ MB\n"
          ]
        }
      ]
    },
    {
      "cell_type": "code",
      "source": [
        "dtypes={}\n",
        "for i in df.columns:\n",
        "  dtypes[i]=str(type(df[i][0]))"
      ],
      "metadata": {
        "id": "aJOH6Hmg1yNs"
      },
      "execution_count": null,
      "outputs": []
    },
    {
      "cell_type": "code",
      "source": [
        "for i in dtypes:\n",
        "  print(dtypes[i])"
      ],
      "metadata": {
        "id": "ZV4LfaOk19ud",
        "colab": {
          "base_uri": "https://localhost:8080/"
        },
        "outputId": "35adcfb1-bae2-47e8-966c-3145f4dfe19e"
      },
      "execution_count": null,
      "outputs": [
        {
          "output_type": "stream",
          "name": "stdout",
          "text": [
            "<class 'numpy.int64'>\n",
            "<class 'str'>\n",
            "<class 'str'>\n",
            "<class 'numpy.int64'>\n",
            "<class 'str'>\n",
            "<class 'numpy.int64'>\n",
            "<class 'numpy.int64'>\n",
            "<class 'str'>\n",
            "<class 'numpy.int64'>\n",
            "<class 'numpy.int64'>\n",
            "<class 'numpy.int64'>\n",
            "<class 'numpy.float64'>\n",
            "<class 'numpy.float64'>\n",
            "<class 'numpy.float64'>\n",
            "<class 'numpy.float64'>\n",
            "<class 'numpy.float64'>\n",
            "<class 'numpy.float64'>\n",
            "<class 'numpy.float64'>\n",
            "<class 'numpy.float64'>\n",
            "<class 'numpy.float64'>\n",
            "<class 'numpy.float64'>\n",
            "<class 'numpy.float64'>\n",
            "<class 'numpy.float64'>\n",
            "<class 'numpy.float64'>\n",
            "<class 'numpy.float64'>\n",
            "<class 'numpy.float64'>\n",
            "<class 'numpy.float64'>\n",
            "<class 'numpy.float64'>\n",
            "<class 'numpy.float64'>\n",
            "<class 'numpy.float64'>\n",
            "<class 'numpy.float64'>\n",
            "<class 'numpy.float64'>\n",
            "<class 'numpy.float64'>\n",
            "<class 'numpy.float64'>\n",
            "<class 'numpy.float64'>\n",
            "<class 'numpy.float64'>\n",
            "<class 'numpy.float64'>\n",
            "<class 'numpy.int64'>\n",
            "<class 'numpy.int64'>\n",
            "<class 'numpy.int64'>\n",
            "<class 'numpy.int64'>\n",
            "<class 'numpy.int64'>\n",
            "<class 'numpy.int64'>\n",
            "<class 'numpy.float64'>\n",
            "<class 'numpy.float64'>\n",
            "<class 'numpy.float64'>\n",
            "<class 'numpy.float64'>\n",
            "<class 'numpy.float64'>\n",
            "<class 'numpy.float64'>\n",
            "<class 'numpy.float64'>\n",
            "<class 'numpy.int64'>\n",
            "<class 'numpy.int64'>\n",
            "<class 'numpy.int64'>\n",
            "<class 'numpy.int64'>\n",
            "<class 'numpy.int64'>\n",
            "<class 'numpy.int64'>\n",
            "<class 'numpy.int64'>\n",
            "<class 'numpy.int64'>\n",
            "<class 'numpy.float64'>\n",
            "<class 'numpy.float64'>\n",
            "<class 'numpy.float64'>\n",
            "<class 'numpy.float64'>\n",
            "<class 'numpy.int64'>\n",
            "<class 'numpy.int64'>\n",
            "<class 'numpy.int64'>\n",
            "<class 'numpy.int64'>\n",
            "<class 'numpy.int64'>\n",
            "<class 'numpy.int64'>\n",
            "<class 'numpy.int64'>\n",
            "<class 'numpy.int64'>\n",
            "<class 'numpy.int64'>\n",
            "<class 'numpy.int64'>\n",
            "<class 'numpy.int64'>\n",
            "<class 'numpy.int64'>\n",
            "<class 'numpy.int64'>\n",
            "<class 'numpy.int64'>\n",
            "<class 'numpy.int64'>\n",
            "<class 'numpy.float64'>\n",
            "<class 'numpy.float64'>\n",
            "<class 'numpy.float64'>\n",
            "<class 'numpy.float64'>\n",
            "<class 'numpy.float64'>\n",
            "<class 'numpy.float64'>\n",
            "<class 'numpy.float64'>\n",
            "<class 'numpy.float64'>\n",
            "<class 'str'>\n"
          ]
        }
      ]
    },
    {
      "cell_type": "code",
      "source": [
        "numerics=[\"<class 'numpy.float64'>\",\"<class 'numpy.int64'>\"]\n",
        "numerical_columns = [c for c,v in dtypes.items() if v in numerics]\n",
        "categorical_columns = [c for c,v in dtypes.items() if v not in numerics]"
      ],
      "metadata": {
        "id": "tIYohdMX2AYr"
      },
      "execution_count": null,
      "outputs": []
    },
    {
      "cell_type": "code",
      "source": [
        "categorical_columns"
      ],
      "metadata": {
        "id": "sgINjPnt2ExC",
        "colab": {
          "base_uri": "https://localhost:8080/"
        },
        "outputId": "96c49c0e-c23a-4767-a260-14c49adeea05"
      },
      "execution_count": null,
      "outputs": [
        {
          "output_type": "execute_result",
          "data": {
            "text/plain": [
              "['Flow ID', ' Source IP', ' Destination IP', ' Timestamp', 'Class']"
            ]
          },
          "metadata": {},
          "execution_count": 10
        }
      ]
    },
    {
      "cell_type": "code",
      "source": [
        "ord=OrdinalEncoder()\n",
        "for i in categorical_columns:\n",
        "  df[[i]]=pd.DataFrame( ord.fit_transform(df[[i]])).astype(int)"
      ],
      "metadata": {
        "id": "GPORf1xw2Gyv"
      },
      "execution_count": null,
      "outputs": []
    },
    {
      "cell_type": "code",
      "source": [
        "df.info()"
      ],
      "metadata": {
        "id": "-aRFJiucpHI5",
        "colab": {
          "base_uri": "https://localhost:8080/"
        },
        "outputId": "dbdb6f03-3a94-4480-a5bf-aef78ad17bba"
      },
      "execution_count": null,
      "outputs": [
        {
          "output_type": "stream",
          "name": "stdout",
          "text": [
            "<class 'pandas.core.frame.DataFrame'>\n",
            "RangeIndex: 177482 entries, 0 to 177481\n",
            "Data columns (total 86 columns):\n",
            " #   Column                        Non-Null Count   Dtype  \n",
            "---  ------                        --------------   -----  \n",
            " 0   Unnamed: 0                    177482 non-null  int64  \n",
            " 1   Flow ID                       177482 non-null  int64  \n",
            " 2    Source IP                    177482 non-null  int64  \n",
            " 3    Source Port                  177482 non-null  int64  \n",
            " 4    Destination IP               177482 non-null  int64  \n",
            " 5    Destination Port             177482 non-null  int64  \n",
            " 6    Protocol                     177482 non-null  int64  \n",
            " 7    Timestamp                    177482 non-null  int64  \n",
            " 8    Flow Duration                177482 non-null  int64  \n",
            " 9    Total Fwd Packets            177482 non-null  int64  \n",
            " 10   Total Backward Packets       177482 non-null  int64  \n",
            " 11  Total Length of Fwd Packets   177482 non-null  float64\n",
            " 12   Total Length of Bwd Packets  177482 non-null  float64\n",
            " 13   Fwd Packet Length Max        177482 non-null  float64\n",
            " 14   Fwd Packet Length Min        177482 non-null  float64\n",
            " 15   Fwd Packet Length Mean       177482 non-null  float64\n",
            " 16   Fwd Packet Length Std        177482 non-null  float64\n",
            " 17  Bwd Packet Length Max         177482 non-null  float64\n",
            " 18   Bwd Packet Length Min        177482 non-null  float64\n",
            " 19   Bwd Packet Length Mean       177482 non-null  float64\n",
            " 20   Bwd Packet Length Std        177482 non-null  float64\n",
            " 21  Flow Bytes/s                  177482 non-null  float64\n",
            " 22   Flow Packets/s               177482 non-null  float64\n",
            " 23   Flow IAT Mean                177482 non-null  float64\n",
            " 24   Flow IAT Std                 177482 non-null  float64\n",
            " 25   Flow IAT Max                 177482 non-null  float64\n",
            " 26   Flow IAT Min                 177482 non-null  float64\n",
            " 27  Fwd IAT Total                 177482 non-null  float64\n",
            " 28   Fwd IAT Mean                 177482 non-null  float64\n",
            " 29   Fwd IAT Std                  177482 non-null  float64\n",
            " 30   Fwd IAT Max                  177482 non-null  float64\n",
            " 31   Fwd IAT Min                  177482 non-null  float64\n",
            " 32  Bwd IAT Total                 177482 non-null  float64\n",
            " 33   Bwd IAT Mean                 177482 non-null  float64\n",
            " 34   Bwd IAT Std                  177482 non-null  float64\n",
            " 35   Bwd IAT Max                  177482 non-null  float64\n",
            " 36   Bwd IAT Min                  177482 non-null  float64\n",
            " 37  Fwd PSH Flags                 177482 non-null  int64  \n",
            " 38   Bwd PSH Flags                177482 non-null  int64  \n",
            " 39   Fwd URG Flags                177482 non-null  int64  \n",
            " 40   Bwd URG Flags                177482 non-null  int64  \n",
            " 41   Fwd Header Length            177482 non-null  int64  \n",
            " 42   Bwd Header Length            177482 non-null  int64  \n",
            " 43  Fwd Packets/s                 177482 non-null  float64\n",
            " 44   Bwd Packets/s                177482 non-null  float64\n",
            " 45   Min Packet Length            177482 non-null  float64\n",
            " 46   Max Packet Length            177482 non-null  float64\n",
            " 47   Packet Length Mean           177482 non-null  float64\n",
            " 48   Packet Length Std            177482 non-null  float64\n",
            " 49   Packet Length Variance       177482 non-null  float64\n",
            " 50  FIN Flag Count                177482 non-null  int64  \n",
            " 51   SYN Flag Count               177482 non-null  int64  \n",
            " 52   RST Flag Count               177482 non-null  int64  \n",
            " 53   PSH Flag Count               177482 non-null  int64  \n",
            " 54   ACK Flag Count               177482 non-null  int64  \n",
            " 55   URG Flag Count               177482 non-null  int64  \n",
            " 56   CWE Flag Count               177482 non-null  int64  \n",
            " 57   ECE Flag Count               177482 non-null  int64  \n",
            " 58   Down/Up Ratio                177482 non-null  float64\n",
            " 59   Average Packet Size          177482 non-null  float64\n",
            " 60   Avg Fwd Segment Size         177482 non-null  float64\n",
            " 61   Avg Bwd Segment Size         177482 non-null  float64\n",
            " 62   Fwd Header Length.1          177482 non-null  int64  \n",
            " 63  Fwd Avg Bytes/Bulk            177482 non-null  int64  \n",
            " 64   Fwd Avg Packets/Bulk         177482 non-null  int64  \n",
            " 65   Fwd Avg Bulk Rate            177482 non-null  int64  \n",
            " 66   Bwd Avg Bytes/Bulk           177482 non-null  int64  \n",
            " 67   Bwd Avg Packets/Bulk         177482 non-null  int64  \n",
            " 68  Bwd Avg Bulk Rate             177482 non-null  int64  \n",
            " 69  Subflow Fwd Packets           177482 non-null  int64  \n",
            " 70   Subflow Fwd Bytes            177482 non-null  int64  \n",
            " 71   Subflow Bwd Packets          177482 non-null  int64  \n",
            " 72   Subflow Bwd Bytes            177482 non-null  int64  \n",
            " 73  Init_Win_bytes_forward        177482 non-null  int64  \n",
            " 74   Init_Win_bytes_backward      177482 non-null  int64  \n",
            " 75   act_data_pkt_fwd             177482 non-null  int64  \n",
            " 76   min_seg_size_forward         177482 non-null  int64  \n",
            " 77  Active Mean                   177482 non-null  float64\n",
            " 78   Active Std                   177482 non-null  float64\n",
            " 79   Active Max                   177482 non-null  float64\n",
            " 80   Active Min                   177482 non-null  float64\n",
            " 81  Idle Mean                     177482 non-null  float64\n",
            " 82   Idle Std                     177482 non-null  float64\n",
            " 83   Idle Max                     177482 non-null  float64\n",
            " 84   Idle Min                     177482 non-null  float64\n",
            " 85  Class                         177482 non-null  int64  \n",
            "dtypes: float64(45), int64(41)\n",
            "memory usage: 116.5 MB\n"
          ]
        }
      ]
    },
    {
      "cell_type": "code",
      "source": [
        "X=df.iloc[:,:-1]\n",
        "y=df.iloc[:,-1]"
      ],
      "metadata": {
        "id": "sEfpbNnd3tIc"
      },
      "execution_count": null,
      "outputs": []
    },
    {
      "cell_type": "code",
      "source": [
        "from sklearn.model_selection import train_test_split\n",
        "X_train,X_test,y_train,y_test=train_test_split(X,y,test_size=0.1)\n",
        "X_train,X_val,y_train,y_val=train_test_split(X_train,y_train,test_size=2/9)\n",
        "\n",
        "\n",
        "# X_train,X_test,Y_train,Y_test=train_test_split(X,y,test_size=0.1)\n",
        "# X_train,X_val,Y_train,Y_val=train_test_split(X_train,Y_train,test_size=2/9)"
      ],
      "metadata": {
        "id": "SMWYNpbR2R1P"
      },
      "execution_count": null,
      "outputs": []
    },
    {
      "cell_type": "code",
      "source": [
        "from sklearn.preprocessing import StandardScaler\n",
        "scaler=StandardScaler()\n",
        "scaler.fit(X_train)\n",
        "\n",
        "X_train = scaler.transform(X_train)\n",
        "X_test = scaler.transform(X_test)\n",
        "X_val = scaler.transform(X_val)"
      ],
      "metadata": {
        "id": "jyGXm8Dp9k2t"
      },
      "execution_count": null,
      "outputs": []
    },
    {
      "cell_type": "code",
      "source": [
        "X_train"
      ],
      "metadata": {
        "id": "iMUbooVBr1cR",
        "colab": {
          "base_uri": "https://localhost:8080/"
        },
        "outputId": "82d0f258-379f-4c22-d8d6-1f830834e1df"
      },
      "execution_count": null,
      "outputs": [
        {
          "output_type": "execute_result",
          "data": {
            "text/plain": [
              "array([[-1.70799022,  0.22221789,  0.48871783, ..., -0.12387698,\n",
              "        -0.300038  , -0.28065551],\n",
              "       [ 0.38087544,  1.0604546 , -0.30015869, ..., -0.12387698,\n",
              "        -0.300038  , -0.28065551],\n",
              "       [-1.0462944 ,  1.03900351, -0.30325232, ..., -0.12387698,\n",
              "        -0.300038  , -0.28065551],\n",
              "       ...,\n",
              "       [ 0.79204858,  0.9289185 , -0.30015869, ..., -0.12387698,\n",
              "        -0.300038  , -0.28065551],\n",
              "       [-0.6314741 ,  0.09576735, -0.30015869, ..., -0.12387698,\n",
              "        -0.300038  , -0.28065551],\n",
              "       [ 1.6555863 ,  1.14079103, -0.30325232, ..., -0.12387698,\n",
              "        -0.300038  , -0.28065551]])"
            ]
          },
          "metadata": {},
          "execution_count": 16
        }
      ]
    },
    {
      "cell_type": "code",
      "source": [
        "X_val.shape"
      ],
      "metadata": {
        "id": "BITQ5Y4I-u-v",
        "colab": {
          "base_uri": "https://localhost:8080/"
        },
        "outputId": "1f638d8b-e5b3-40f1-bf0b-3b4407ec0828"
      },
      "execution_count": null,
      "outputs": [
        {
          "output_type": "execute_result",
          "data": {
            "text/plain": [
              "(35497, 85)"
            ]
          },
          "metadata": {},
          "execution_count": 17
        }
      ]
    },
    {
      "cell_type": "code",
      "source": [
        "!pip install tensorflow"
      ],
      "metadata": {
        "id": "C8EL3dDq3KEP",
        "colab": {
          "base_uri": "https://localhost:8080/"
        },
        "outputId": "7b05e395-c6ba-470a-ab3f-387a0d21b071"
      },
      "execution_count": null,
      "outputs": [
        {
          "output_type": "stream",
          "name": "stdout",
          "text": [
            "Looking in indexes: https://pypi.org/simple, https://us-python.pkg.dev/colab-wheels/public/simple/\n",
            "Requirement already satisfied: tensorflow in /usr/local/lib/python3.10/dist-packages (2.12.0)\n",
            "Requirement already satisfied: setuptools in /usr/local/lib/python3.10/dist-packages (from tensorflow) (67.7.2)\n",
            "Requirement already satisfied: grpcio<2.0,>=1.24.3 in /usr/local/lib/python3.10/dist-packages (from tensorflow) (1.54.0)\n",
            "Requirement already satisfied: tensorboard<2.13,>=2.12 in /usr/local/lib/python3.10/dist-packages (from tensorflow) (2.12.2)\n",
            "Requirement already satisfied: packaging in /usr/local/lib/python3.10/dist-packages (from tensorflow) (23.1)\n",
            "Requirement already satisfied: keras<2.13,>=2.12.0 in /usr/local/lib/python3.10/dist-packages (from tensorflow) (2.12.0)\n",
            "Requirement already satisfied: opt-einsum>=2.3.2 in /usr/local/lib/python3.10/dist-packages (from tensorflow) (3.3.0)\n",
            "Requirement already satisfied: tensorflow-io-gcs-filesystem>=0.23.1 in /usr/local/lib/python3.10/dist-packages (from tensorflow) (0.32.0)\n",
            "Requirement already satisfied: six>=1.12.0 in /usr/local/lib/python3.10/dist-packages (from tensorflow) (1.16.0)\n",
            "Requirement already satisfied: google-pasta>=0.1.1 in /usr/local/lib/python3.10/dist-packages (from tensorflow) (0.2.0)\n",
            "Requirement already satisfied: astunparse>=1.6.0 in /usr/local/lib/python3.10/dist-packages (from tensorflow) (1.6.3)\n",
            "Requirement already satisfied: typing-extensions>=3.6.6 in /usr/local/lib/python3.10/dist-packages (from tensorflow) (4.5.0)\n",
            "Requirement already satisfied: h5py>=2.9.0 in /usr/local/lib/python3.10/dist-packages (from tensorflow) (3.8.0)\n",
            "Requirement already satisfied: libclang>=13.0.0 in /usr/local/lib/python3.10/dist-packages (from tensorflow) (16.0.0)\n",
            "Requirement already satisfied: wrapt<1.15,>=1.11.0 in /usr/local/lib/python3.10/dist-packages (from tensorflow) (1.14.1)\n",
            "Requirement already satisfied: numpy<1.24,>=1.22 in /usr/local/lib/python3.10/dist-packages (from tensorflow) (1.22.4)\n",
            "Requirement already satisfied: flatbuffers>=2.0 in /usr/local/lib/python3.10/dist-packages (from tensorflow) (23.3.3)\n",
            "Requirement already satisfied: termcolor>=1.1.0 in /usr/local/lib/python3.10/dist-packages (from tensorflow) (2.3.0)\n",
            "Requirement already satisfied: tensorflow-estimator<2.13,>=2.12.0 in /usr/local/lib/python3.10/dist-packages (from tensorflow) (2.12.0)\n",
            "Requirement already satisfied: protobuf!=4.21.0,!=4.21.1,!=4.21.2,!=4.21.3,!=4.21.4,!=4.21.5,<5.0.0dev,>=3.20.3 in /usr/local/lib/python3.10/dist-packages (from tensorflow) (3.20.3)\n",
            "Requirement already satisfied: absl-py>=1.0.0 in /usr/local/lib/python3.10/dist-packages (from tensorflow) (1.4.0)\n",
            "Requirement already satisfied: gast<=0.4.0,>=0.2.1 in /usr/local/lib/python3.10/dist-packages (from tensorflow) (0.4.0)\n",
            "Requirement already satisfied: jax>=0.3.15 in /usr/local/lib/python3.10/dist-packages (from tensorflow) (0.4.8)\n",
            "Requirement already satisfied: wheel<1.0,>=0.23.0 in /usr/local/lib/python3.10/dist-packages (from astunparse>=1.6.0->tensorflow) (0.40.0)\n",
            "Requirement already satisfied: scipy>=1.7 in /usr/local/lib/python3.10/dist-packages (from jax>=0.3.15->tensorflow) (1.10.1)\n",
            "Requirement already satisfied: ml-dtypes>=0.0.3 in /usr/local/lib/python3.10/dist-packages (from jax>=0.3.15->tensorflow) (0.1.0)\n",
            "Requirement already satisfied: tensorboard-data-server<0.8.0,>=0.7.0 in /usr/local/lib/python3.10/dist-packages (from tensorboard<2.13,>=2.12->tensorflow) (0.7.0)\n",
            "Requirement already satisfied: google-auth<3,>=1.6.3 in /usr/local/lib/python3.10/dist-packages (from tensorboard<2.13,>=2.12->tensorflow) (2.17.3)\n",
            "Requirement already satisfied: requests<3,>=2.21.0 in /usr/local/lib/python3.10/dist-packages (from tensorboard<2.13,>=2.12->tensorflow) (2.27.1)\n",
            "Requirement already satisfied: tensorboard-plugin-wit>=1.6.0 in /usr/local/lib/python3.10/dist-packages (from tensorboard<2.13,>=2.12->tensorflow) (1.8.1)\n",
            "Requirement already satisfied: markdown>=2.6.8 in /usr/local/lib/python3.10/dist-packages (from tensorboard<2.13,>=2.12->tensorflow) (3.4.3)\n",
            "Requirement already satisfied: google-auth-oauthlib<1.1,>=0.5 in /usr/local/lib/python3.10/dist-packages (from tensorboard<2.13,>=2.12->tensorflow) (1.0.0)\n",
            "Requirement already satisfied: werkzeug>=1.0.1 in /usr/local/lib/python3.10/dist-packages (from tensorboard<2.13,>=2.12->tensorflow) (2.3.0)\n",
            "Requirement already satisfied: pyasn1-modules>=0.2.1 in /usr/local/lib/python3.10/dist-packages (from google-auth<3,>=1.6.3->tensorboard<2.13,>=2.12->tensorflow) (0.3.0)\n",
            "Requirement already satisfied: rsa<5,>=3.1.4 in /usr/local/lib/python3.10/dist-packages (from google-auth<3,>=1.6.3->tensorboard<2.13,>=2.12->tensorflow) (4.9)\n",
            "Requirement already satisfied: cachetools<6.0,>=2.0.0 in /usr/local/lib/python3.10/dist-packages (from google-auth<3,>=1.6.3->tensorboard<2.13,>=2.12->tensorflow) (5.3.0)\n",
            "Requirement already satisfied: requests-oauthlib>=0.7.0 in /usr/local/lib/python3.10/dist-packages (from google-auth-oauthlib<1.1,>=0.5->tensorboard<2.13,>=2.12->tensorflow) (1.3.1)\n",
            "Requirement already satisfied: charset-normalizer~=2.0.0 in /usr/local/lib/python3.10/dist-packages (from requests<3,>=2.21.0->tensorboard<2.13,>=2.12->tensorflow) (2.0.12)\n",
            "Requirement already satisfied: certifi>=2017.4.17 in /usr/local/lib/python3.10/dist-packages (from requests<3,>=2.21.0->tensorboard<2.13,>=2.12->tensorflow) (2022.12.7)\n",
            "Requirement already satisfied: idna<4,>=2.5 in /usr/local/lib/python3.10/dist-packages (from requests<3,>=2.21.0->tensorboard<2.13,>=2.12->tensorflow) (3.4)\n",
            "Requirement already satisfied: urllib3<1.27,>=1.21.1 in /usr/local/lib/python3.10/dist-packages (from requests<3,>=2.21.0->tensorboard<2.13,>=2.12->tensorflow) (1.26.15)\n",
            "Requirement already satisfied: MarkupSafe>=2.1.1 in /usr/local/lib/python3.10/dist-packages (from werkzeug>=1.0.1->tensorboard<2.13,>=2.12->tensorflow) (2.1.2)\n",
            "Requirement already satisfied: pyasn1<0.6.0,>=0.4.6 in /usr/local/lib/python3.10/dist-packages (from pyasn1-modules>=0.2.1->google-auth<3,>=1.6.3->tensorboard<2.13,>=2.12->tensorflow) (0.5.0)\n",
            "Requirement already satisfied: oauthlib>=3.0.0 in /usr/local/lib/python3.10/dist-packages (from requests-oauthlib>=0.7.0->google-auth-oauthlib<1.1,>=0.5->tensorboard<2.13,>=2.12->tensorflow) (3.2.2)\n"
          ]
        }
      ]
    },
    {
      "cell_type": "code",
      "source": [
        "!pip install tensor.flow.keras"
      ],
      "metadata": {
        "id": "pwmI2NYA3VHw",
        "colab": {
          "base_uri": "https://localhost:8080/"
        },
        "outputId": "f074e916-4b4e-4999-d1b1-f6e0d0e24130"
      },
      "execution_count": null,
      "outputs": [
        {
          "output_type": "stream",
          "name": "stdout",
          "text": [
            "Looking in indexes: https://pypi.org/simple, https://us-python.pkg.dev/colab-wheels/public/simple/\n",
            "\u001b[31mERROR: Could not find a version that satisfies the requirement tensor.flow.keras (from versions: none)\u001b[0m\u001b[31m\n",
            "\u001b[0m\u001b[31mERROR: No matching distribution found for tensor.flow.keras\u001b[0m\u001b[31m\n",
            "\u001b[0m"
          ]
        }
      ]
    },
    {
      "cell_type": "code",
      "source": [
        "from tensorflow import keras\n",
        "from keras.models import Sequential\n",
        "from keras.layers import Input,Dense,Dropout\n",
        "\n",
        "model1 = Sequential()\n",
        "model1.add(Input(shape=(X_train.shape[1],))) \n",
        "model1.add(Dense(128,activation='relu'))\n",
        "model1.add(Dense(64,activation='relu'))\n",
        "model1.add(Dense(64,activation='relu'))\n",
        "model1.add(Dense(64,activation='relu'))\n",
        "model1.add(Dense(1,activation='relu'))"
      ],
      "metadata": {
        "id": "fSoaufLW3X7-"
      },
      "execution_count": null,
      "outputs": []
    },
    {
      "cell_type": "code",
      "source": [
        "model1.compile(optimizer='adam',loss='binary_crossentropy',metrics=['accuracy'])"
      ],
      "metadata": {
        "id": "_Y9GTIux3aWR"
      },
      "execution_count": null,
      "outputs": []
    },
    {
      "cell_type": "code",
      "source": [
        "y_train"
      ],
      "metadata": {
        "id": "hJPbzcrQs92V",
        "colab": {
          "base_uri": "https://localhost:8080/"
        },
        "outputId": "1bcf3c14-b254-4818-9b44-58d23107dbf9"
      },
      "execution_count": null,
      "outputs": [
        {
          "output_type": "execute_result",
          "data": {
            "text/plain": [
              "76956     1\n",
              "170008    0\n",
              "1287      1\n",
              "122104    0\n",
              "115703    0\n",
              "         ..\n",
              "109698    0\n",
              "69040     0\n",
              "139430    0\n",
              "60266     1\n",
              "6397      0\n",
              "Name: Class, Length: 124236, dtype: int64"
            ]
          },
          "metadata": {},
          "execution_count": 22
        }
      ]
    },
    {
      "cell_type": "code",
      "source": [
        "import tensorflow as tf\n",
        "from tensorflow.keras.callbacks import ModelCheckpoint\n",
        "\n",
        "# define the checkpoint callback to store the best accuracy giving model\n",
        "checkpoint_callback = ModelCheckpoint('Final_model.h5', monitor='val_accuracy', save_best_only=True, mode='max')\n",
        "\n",
        "# train the model with the checkpoint callback\n",
        "model1.fit(X_train,y_train,epochs=30,validation_data=(X_val,y_val), callbacks=[checkpoint_callback])\n",
        "\n",
        "# load the best model\n",
        "Model1 = tf.keras.models.load_model('Final_model.h5')\n"
      ],
      "metadata": {
        "colab": {
          "base_uri": "https://localhost:8080/"
        },
        "id": "9oeVALkN3gt9",
        "outputId": "ce5948a1-5272-4e67-e168-8de790a66043"
      },
      "execution_count": null,
      "outputs": [
        {
          "output_type": "stream",
          "name": "stdout",
          "text": [
            "Epoch 1/30\n",
            "3883/3883 [==============================] - 18s 4ms/step - loss: 0.2295 - accuracy: 0.9651 - val_loss: 0.0712 - val_accuracy: 0.9899\n",
            "Epoch 2/30\n",
            "3883/3883 [==============================] - 26s 7ms/step - loss: 0.1995 - accuracy: 0.9814 - val_loss: 0.1094 - val_accuracy: 0.9898\n",
            "Epoch 3/30\n",
            "3883/3883 [==============================] - 13s 3ms/step - loss: 0.3237 - accuracy: 0.9762 - val_loss: 0.3895 - val_accuracy: 0.9735\n",
            "Epoch 4/30\n",
            "3883/3883 [==============================] - 12s 3ms/step - loss: 0.3841 - accuracy: 0.9737 - val_loss: 0.3481 - val_accuracy: 0.9753\n",
            "Epoch 5/30\n",
            "3883/3883 [==============================] - 12s 3ms/step - loss: 0.5810 - accuracy: 0.9611 - val_loss: 0.6781 - val_accuracy: 0.9547\n",
            "Epoch 6/30\n",
            "3883/3883 [==============================] - 13s 3ms/step - loss: 0.3462 - accuracy: 0.9771 - val_loss: 0.2981 - val_accuracy: 0.9804\n",
            "Epoch 7/30\n",
            "3883/3883 [==============================] - 13s 3ms/step - loss: 0.3709 - accuracy: 0.9755 - val_loss: 0.4207 - val_accuracy: 0.9724\n",
            "Epoch 8/30\n",
            "3883/3883 [==============================] - 13s 3ms/step - loss: 0.4567 - accuracy: 0.9700 - val_loss: 0.4448 - val_accuracy: 0.9708\n",
            "Epoch 9/30\n",
            "3883/3883 [==============================] - 14s 4ms/step - loss: 0.6313 - accuracy: 0.9587 - val_loss: 0.9639 - val_accuracy: 0.9372\n",
            "Epoch 10/30\n",
            "3883/3883 [==============================] - 14s 4ms/step - loss: 0.8647 - accuracy: 0.9436 - val_loss: 0.5440 - val_accuracy: 0.9644\n",
            "Epoch 11/30\n",
            "3883/3883 [==============================] - 14s 3ms/step - loss: 0.5266 - accuracy: 0.9656 - val_loss: 0.6630 - val_accuracy: 0.9566\n",
            "Epoch 12/30\n",
            "3883/3883 [==============================] - 13s 3ms/step - loss: 0.7207 - accuracy: 0.9530 - val_loss: 0.4363 - val_accuracy: 0.9714\n",
            "Epoch 13/30\n",
            "3883/3883 [==============================] - 14s 4ms/step - loss: 0.5109 - accuracy: 0.9665 - val_loss: 0.4141 - val_accuracy: 0.9729\n",
            "Epoch 14/30\n",
            "3883/3883 [==============================] - 13s 3ms/step - loss: 0.6061 - accuracy: 0.9604 - val_loss: 0.8641 - val_accuracy: 0.9437\n",
            "Epoch 15/30\n",
            "3883/3883 [==============================] - 14s 4ms/step - loss: 0.5247 - accuracy: 0.9657 - val_loss: 0.3853 - val_accuracy: 0.9748\n",
            "Epoch 16/30\n",
            "3883/3883 [==============================] - 14s 4ms/step - loss: 0.4041 - accuracy: 0.9737 - val_loss: 0.2883 - val_accuracy: 0.9812\n",
            "Epoch 17/30\n",
            "3883/3883 [==============================] - 13s 3ms/step - loss: 0.4656 - accuracy: 0.9696 - val_loss: 0.4685 - val_accuracy: 0.9695\n",
            "Epoch 18/30\n",
            "3883/3883 [==============================] - 13s 3ms/step - loss: 0.4836 - accuracy: 0.9685 - val_loss: 0.5217 - val_accuracy: 0.9659\n",
            "Epoch 19/30\n",
            "3883/3883 [==============================] - 12s 3ms/step - loss: 0.4489 - accuracy: 0.9707 - val_loss: 0.3736 - val_accuracy: 0.9756\n",
            "Epoch 20/30\n",
            "3883/3883 [==============================] - 13s 3ms/step - loss: 0.3009 - accuracy: 0.9804 - val_loss: 0.2610 - val_accuracy: 0.9830\n",
            "Epoch 21/30\n",
            "3883/3883 [==============================] - 12s 3ms/step - loss: 0.2630 - accuracy: 0.9828 - val_loss: 0.3417 - val_accuracy: 0.9777\n",
            "Epoch 22/30\n",
            "3883/3883 [==============================] - 13s 3ms/step - loss: 0.2854 - accuracy: 0.9814 - val_loss: 0.3628 - val_accuracy: 0.9764\n",
            "Epoch 23/30\n",
            "3883/3883 [==============================] - 13s 3ms/step - loss: 0.3829 - accuracy: 0.9751 - val_loss: 0.5980 - val_accuracy: 0.9608\n",
            "Epoch 24/30\n",
            "3883/3883 [==============================] - 14s 4ms/step - loss: 0.5139 - accuracy: 0.9664 - val_loss: 0.4603 - val_accuracy: 0.9700\n",
            "Epoch 25/30\n",
            "3883/3883 [==============================] - 13s 3ms/step - loss: 0.5240 - accuracy: 0.9658 - val_loss: 0.6877 - val_accuracy: 0.9552\n",
            "Epoch 26/30\n",
            "3883/3883 [==============================] - 12s 3ms/step - loss: 0.5653 - accuracy: 0.9630 - val_loss: 0.5162 - val_accuracy: 0.9661\n",
            "Epoch 27/30\n",
            "3883/3883 [==============================] - 13s 3ms/step - loss: 0.5322 - accuracy: 0.9653 - val_loss: 0.6304 - val_accuracy: 0.9588\n",
            "Epoch 28/30\n",
            "3883/3883 [==============================] - 12s 3ms/step - loss: 0.4473 - accuracy: 0.9708 - val_loss: 0.3318 - val_accuracy: 0.9783\n",
            "Epoch 29/30\n",
            "3883/3883 [==============================] - 11s 3ms/step - loss: 0.4320 - accuracy: 0.9717 - val_loss: 0.4424 - val_accuracy: 0.9711\n",
            "Epoch 30/30\n",
            "3883/3883 [==============================] - 12s 3ms/step - loss: 0.4198 - accuracy: 0.9726 - val_loss: 0.2479 - val_accuracy: 0.9838\n"
          ]
        }
      ]
    },
    {
      "cell_type": "code",
      "source": [
        "Model1.save('/content/drive/MyDrive/Trojan_Models/Final_Model1')"
      ],
      "metadata": {
        "id": "LB0FA9mt4O0Z",
        "colab": {
          "base_uri": "https://localhost:8080/"
        },
        "outputId": "111bbaf4-6060-4b98-b3f6-25cde644029f"
      },
      "execution_count": null,
      "outputs": [
        {
          "output_type": "stream",
          "name": "stderr",
          "text": [
            "WARNING:absl:Found untraced functions such as _update_step_xla while saving (showing 1 of 1). These functions will not be directly callable after loading.\n"
          ]
        }
      ]
    },
    {
      "cell_type": "code",
      "source": [
        "from tensorflow.keras.models import load_model\n",
        "\n",
        "model = load_model('/content/drive/MyDrive/Trojan_Models/Final_Model1')\n"
      ],
      "metadata": {
        "id": "vsOcqFiN59uv"
      },
      "execution_count": null,
      "outputs": []
    },
    {
      "cell_type": "code",
      "source": [
        "predictions = model.predict(X_test)"
      ],
      "metadata": {
        "colab": {
          "base_uri": "https://localhost:8080/"
        },
        "id": "Qws0qJR_6M9w",
        "outputId": "07289e0d-ba5b-4992-d1f1-f3219e8e669a"
      },
      "execution_count": null,
      "outputs": [
        {
          "output_type": "stream",
          "name": "stdout",
          "text": [
            "555/555 [==============================] - 1s 1ms/step\n"
          ]
        }
      ]
    },
    {
      "cell_type": "code",
      "source": [
        "predictions.flatten()\n",
        "(predictions > 0.5).astype(int)"
      ],
      "metadata": {
        "colab": {
          "base_uri": "https://localhost:8080/"
        },
        "id": "-BIDDvh-6jo7",
        "outputId": "dc90a77f-cee3-4868-c720-dc6ea6b5d301"
      },
      "execution_count": null,
      "outputs": [
        {
          "output_type": "execute_result",
          "data": {
            "text/plain": [
              "array([[0],\n",
              "       [1],\n",
              "       [0],\n",
              "       ...,\n",
              "       [0],\n",
              "       [1],\n",
              "       [0]])"
            ]
          },
          "metadata": {},
          "execution_count": 27
        }
      ]
    },
    {
      "cell_type": "code",
      "source": [
        "from sklearn.metrics import accuracy_score\n",
        "accuracy_score(y_test,(predictions.flatten() > 0.5).astype(int))"
      ],
      "metadata": {
        "colab": {
          "base_uri": "https://localhost:8080/"
        },
        "id": "B6zo3bWx6Ts3",
        "outputId": "81a9ca63-00a8-44b8-ed70-17a97073681a"
      },
      "execution_count": null,
      "outputs": [
        {
          "output_type": "execute_result",
          "data": {
            "text/plain": [
              "0.9910980900332413"
            ]
          },
          "metadata": {},
          "execution_count": 28
        }
      ]
    },
    {
      "cell_type": "code",
      "source": [
        "selected_features=[' Source Port', ' Destination Port', ' Flow Duration',\n",
        "       ' Fwd Packet Length Max', ' Fwd Packet Length Mean',\n",
        "       ' Bwd Packet Length Mean', 'Flow Bytes/s', ' Flow Packets/s',\n",
        "       ' Flow IAT Mean', ' Flow IAT Max', ' Flow IAT Min', 'Fwd IAT Total',\n",
        "       ' Fwd IAT Mean'\n",
        "       , ' Fwd IAT Std', ' Fwd IAT Max', ' Fwd IAT Min',\n",
        "       ' Bwd IAT Min', 'Fwd Packets/s', ' Bwd Packets/s', ' Packet Length Std',\n",
        "       ' Average Packet Size', ' Fwd Header Length.1', ' Subflow Fwd Bytes',\n",
        "       'Init_Win_bytes_forward', ' Init_Win_bytes_backward']"
      ],
      "metadata": {
        "id": "1duCO9FPxVoz"
      },
      "execution_count": null,
      "outputs": []
    },
    {
      "cell_type": "code",
      "source": [
        "X_slc=df[selected_features]"
      ],
      "metadata": {
        "id": "d86SdG20xkQu"
      },
      "execution_count": null,
      "outputs": []
    },
    {
      "cell_type": "code",
      "source": [
        "from sklearn.model_selection import train_test_split\n",
        "X_train_slc,X_test_slc,y_train_slc,y_test_slc=train_test_split(X_slc,y,test_size=0.1)\n",
        "X_train_slc,X_val_slc,y_train_slc,y_val_slc=train_test_split(X_train_slc,y_train_slc,test_size=2/9)"
      ],
      "metadata": {
        "id": "KtksKlXrxuL2"
      },
      "execution_count": null,
      "outputs": []
    },
    {
      "cell_type": "code",
      "source": [
        "from sklearn.preprocessing import StandardScaler\n",
        "scaler=StandardScaler()\n",
        "scaler.fit(X_train_slc)\n",
        "\n",
        "X_train_slc = scaler.transform(X_train_slc)\n",
        "X_test_slc = scaler.transform(X_test_slc)\n",
        "X_val_slc = scaler.transform(X_val_slc)"
      ],
      "metadata": {
        "id": "VsGX4CwyyEDC"
      },
      "execution_count": null,
      "outputs": []
    },
    {
      "cell_type": "code",
      "source": [],
      "metadata": {
        "id": "4MuQ3AvZygGa"
      },
      "execution_count": null,
      "outputs": []
    },
    {
      "cell_type": "code",
      "source": [
        "from tensorflow import keras\n",
        "from keras.models import Sequential\n",
        "from keras.layers import Input,Dense,Dropout\n",
        "\n",
        "model2 = Sequential()\n",
        "model2.add(Input(shape=(25,))) \n",
        "model2.add(Dense(128,activation='relu'))\n",
        "model2.add(Dense(64,activation='relu'))\n",
        "model2.add(Dense(64,activation='relu'))\n",
        "model2.add(Dense(64,activation='relu'))\n",
        "model2.add(Dense(1,activation='relu'))"
      ],
      "metadata": {
        "id": "gDl7Cay0ygTa"
      },
      "execution_count": null,
      "outputs": []
    },
    {
      "cell_type": "code",
      "source": [
        "model2.compile(optimizer='adam',loss='binary_crossentropy',metrics=['accuracy'])"
      ],
      "metadata": {
        "id": "dIpztwuUygTc"
      },
      "execution_count": null,
      "outputs": []
    },
    {
      "cell_type": "code",
      "source": [
        "import tensorflow as tf\n",
        "from tensorflow.keras.callbacks import ModelCheckpoint\n",
        "\n",
        "# define the checkpoint callback to store the best accuracy giving model\n",
        "checkpoint_callback = ModelCheckpoint('Final_model.h5', monitor='val_accuracy', save_best_only=True, mode='max')\n",
        "\n",
        "# train the model with the checkpoint callback\n",
        "model2.fit(X_train_slc,y_train_slc,epochs=100,validation_data=(X_val_slc,y_val_slc), callbacks=[checkpoint_callback])\n",
        "\n",
        "# load the best model\n",
        "Model2 = tf.keras.models.load_model('Final_model.h5')\n"
      ],
      "metadata": {
        "colab": {
          "base_uri": "https://localhost:8080/"
        },
        "outputId": "48e846d8-4cc3-4a63-f2f3-1a2941244145",
        "id": "BYLgnzRXygTe"
      },
      "execution_count": null,
      "outputs": [
        {
          "metadata": {
            "tags": null
          },
          "name": "stdout",
          "output_type": "stream",
          "text": [
            "Epoch 1/100\n",
            "3883/3883 [==============================] - 14s 3ms/step - loss: 0.6997 - accuracy: 0.5541 - val_loss: 0.6706 - val_accuracy: 0.5652\n",
            "Epoch 2/100\n",
            "3883/3883 [==============================] - 13s 3ms/step - loss: 0.6703 - accuracy: 0.5718 - val_loss: 0.6766 - val_accuracy: 0.5741\n",
            "Epoch 3/100\n",
            "3883/3883 [==============================] - 12s 3ms/step - loss: 0.6748 - accuracy: 0.5700 - val_loss: 0.6710 - val_accuracy: 0.5770\n",
            "Epoch 4/100\n",
            "3883/3883 [==============================] - 14s 4ms/step - loss: 0.6657 - accuracy: 0.5797 - val_loss: 0.6668 - val_accuracy: 0.5717\n",
            "Epoch 5/100\n",
            "3883/3883 [==============================] - 14s 4ms/step - loss: 0.6603 - accuracy: 0.5840 - val_loss: 0.6646 - val_accuracy: 0.5748\n",
            "Epoch 6/100\n",
            "3883/3883 [==============================] - 12s 3ms/step - loss: 0.6645 - accuracy: 0.5790 - val_loss: 0.6589 - val_accuracy: 0.5813\n",
            "Epoch 7/100\n",
            "3883/3883 [==============================] - 12s 3ms/step - loss: 0.6569 - accuracy: 0.5885 - val_loss: 0.6664 - val_accuracy: 0.5783\n",
            "Epoch 8/100\n",
            "3883/3883 [==============================] - 12s 3ms/step - loss: 0.6669 - accuracy: 0.5889 - val_loss: 0.6643 - val_accuracy: 0.5859\n",
            "Epoch 9/100\n",
            "3883/3883 [==============================] - 12s 3ms/step - loss: 0.6598 - accuracy: 0.5883 - val_loss: 0.6602 - val_accuracy: 0.5913\n",
            "Epoch 10/100\n",
            "3883/3883 [==============================] - 12s 3ms/step - loss: 0.6603 - accuracy: 0.5925 - val_loss: 0.6677 - val_accuracy: 0.5904\n",
            "Epoch 11/100\n",
            "3883/3883 [==============================] - 13s 3ms/step - loss: 0.6607 - accuracy: 0.5882 - val_loss: 0.6563 - val_accuracy: 0.5886\n",
            "Epoch 12/100\n",
            "3883/3883 [==============================] - 13s 3ms/step - loss: 0.6591 - accuracy: 0.5906 - val_loss: 0.6624 - val_accuracy: 0.5868\n",
            "Epoch 13/100\n",
            "3883/3883 [==============================] - 17s 4ms/step - loss: 0.6592 - accuracy: 0.5927 - val_loss: 0.6686 - val_accuracy: 0.5842\n",
            "Epoch 14/100\n",
            "3883/3883 [==============================] - 14s 4ms/step - loss: 0.6558 - accuracy: 0.5964 - val_loss: 0.6547 - val_accuracy: 0.5951\n",
            "Epoch 15/100\n",
            "3883/3883 [==============================] - 12s 3ms/step - loss: 0.6541 - accuracy: 0.5992 - val_loss: 0.6669 - val_accuracy: 0.5838\n",
            "Epoch 16/100\n",
            "3883/3883 [==============================] - 12s 3ms/step - loss: 0.6547 - accuracy: 0.5974 - val_loss: 0.6527 - val_accuracy: 0.6024\n",
            "Epoch 17/100\n",
            "3883/3883 [==============================] - 11s 3ms/step - loss: 0.6511 - accuracy: 0.6005 - val_loss: 0.6503 - val_accuracy: 0.5933\n",
            "Epoch 18/100\n",
            "3883/3883 [==============================] - 12s 3ms/step - loss: 0.6532 - accuracy: 0.5972 - val_loss: 0.6608 - val_accuracy: 0.5961\n",
            "Epoch 19/100\n",
            "3883/3883 [==============================] - 13s 3ms/step - loss: 0.6503 - accuracy: 0.6037 - val_loss: 0.6575 - val_accuracy: 0.6040\n",
            "Epoch 20/100\n",
            "3883/3883 [==============================] - 13s 3ms/step - loss: 0.6515 - accuracy: 0.6046 - val_loss: 0.6701 - val_accuracy: 0.5556\n",
            "Epoch 21/100\n",
            "3883/3883 [==============================] - 13s 3ms/step - loss: 0.6518 - accuracy: 0.6009 - val_loss: 0.6523 - val_accuracy: 0.6024\n",
            "Epoch 22/100\n",
            "3883/3883 [==============================] - 13s 3ms/step - loss: 0.6500 - accuracy: 0.6069 - val_loss: 0.6489 - val_accuracy: 0.6030\n",
            "Epoch 23/100\n",
            "3883/3883 [==============================] - 13s 3ms/step - loss: 0.6491 - accuracy: 0.6065 - val_loss: 0.6509 - val_accuracy: 0.5952\n",
            "Epoch 24/100\n",
            "3883/3883 [==============================] - 12s 3ms/step - loss: 0.6531 - accuracy: 0.6081 - val_loss: 0.6566 - val_accuracy: 0.6017\n",
            "Epoch 25/100\n",
            "3883/3883 [==============================] - 11s 3ms/step - loss: 0.6525 - accuracy: 0.6002 - val_loss: 0.6596 - val_accuracy: 0.5832\n",
            "Epoch 26/100\n",
            "3883/3883 [==============================] - 12s 3ms/step - loss: 0.6495 - accuracy: 0.6047 - val_loss: 0.6483 - val_accuracy: 0.6032\n",
            "Epoch 27/100\n",
            "3883/3883 [==============================] - 12s 3ms/step - loss: 0.6491 - accuracy: 0.6084 - val_loss: 0.6545 - val_accuracy: 0.6022\n",
            "Epoch 28/100\n",
            "3883/3883 [==============================] - 13s 3ms/step - loss: 0.6473 - accuracy: 0.6113 - val_loss: 0.6635 - val_accuracy: 0.5987\n",
            "Epoch 29/100\n",
            "3883/3883 [==============================] - 12s 3ms/step - loss: 0.6484 - accuracy: 0.6099 - val_loss: 0.6862 - val_accuracy: 0.6036\n",
            "Epoch 30/100\n",
            "3883/3883 [==============================] - 12s 3ms/step - loss: 0.6483 - accuracy: 0.6045 - val_loss: 0.6532 - val_accuracy: 0.5983\n",
            "Epoch 31/100\n",
            "3883/3883 [==============================] - 11s 3ms/step - loss: 0.6442 - accuracy: 0.6124 - val_loss: 0.6503 - val_accuracy: 0.6045\n",
            "Epoch 32/100\n",
            "3883/3883 [==============================] - 10s 3ms/step - loss: 0.6485 - accuracy: 0.6094 - val_loss: 0.6625 - val_accuracy: 0.5937\n",
            "Epoch 33/100\n",
            "3883/3883 [==============================] - 13s 3ms/step - loss: 0.6504 - accuracy: 0.6065 - val_loss: 0.6560 - val_accuracy: 0.6015\n",
            "Epoch 34/100\n",
            "3883/3883 [==============================] - 12s 3ms/step - loss: 0.6481 - accuracy: 0.6077 - val_loss: 0.6581 - val_accuracy: 0.5989\n",
            "Epoch 35/100\n",
            "3883/3883 [==============================] - 13s 3ms/step - loss: 0.6458 - accuracy: 0.6091 - val_loss: 0.6557 - val_accuracy: 0.5950\n",
            "Epoch 36/100\n",
            "3883/3883 [==============================] - 12s 3ms/step - loss: 0.6474 - accuracy: 0.6077 - val_loss: 0.6512 - val_accuracy: 0.5985\n",
            "Epoch 37/100\n",
            "3883/3883 [==============================] - 11s 3ms/step - loss: 0.6464 - accuracy: 0.6079 - val_loss: 0.6480 - val_accuracy: 0.5990\n",
            "Epoch 38/100\n",
            "3883/3883 [==============================] - 11s 3ms/step - loss: 0.6407 - accuracy: 0.6120 - val_loss: 0.6451 - val_accuracy: 0.6074\n",
            "Epoch 39/100\n",
            "3883/3883 [==============================] - 13s 3ms/step - loss: 0.6448 - accuracy: 0.6101 - val_loss: 0.6505 - val_accuracy: 0.5973\n",
            "Epoch 40/100\n",
            "3883/3883 [==============================] - 12s 3ms/step - loss: 0.6460 - accuracy: 0.6100 - val_loss: 0.6694 - val_accuracy: 0.6039\n",
            "Epoch 41/100\n",
            "3883/3883 [==============================] - 13s 3ms/step - loss: 0.6548 - accuracy: 0.6057 - val_loss: 0.6623 - val_accuracy: 0.5946\n",
            "Epoch 42/100\n",
            "3883/3883 [==============================] - 11s 3ms/step - loss: 0.6471 - accuracy: 0.6089 - val_loss: 0.6552 - val_accuracy: 0.6060\n",
            "Epoch 43/100\n",
            "3883/3883 [==============================] - 11s 3ms/step - loss: 0.6489 - accuracy: 0.6115 - val_loss: 0.6544 - val_accuracy: 0.6066\n",
            "Epoch 44/100\n",
            "3883/3883 [==============================] - 12s 3ms/step - loss: 0.6436 - accuracy: 0.6122 - val_loss: 0.6621 - val_accuracy: 0.6048\n",
            "Epoch 45/100\n",
            "3883/3883 [==============================] - 12s 3ms/step - loss: 0.6429 - accuracy: 0.6124 - val_loss: 0.6517 - val_accuracy: 0.6050\n",
            "Epoch 46/100\n",
            "3883/3883 [==============================] - 11s 3ms/step - loss: 0.6398 - accuracy: 0.6143 - val_loss: 0.6460 - val_accuracy: 0.6079\n",
            "Epoch 47/100\n",
            "3883/3883 [==============================] - 13s 3ms/step - loss: 0.6411 - accuracy: 0.6155 - val_loss: 0.6591 - val_accuracy: 0.6067\n",
            "Epoch 48/100\n",
            "3883/3883 [==============================] - 13s 3ms/step - loss: 0.6450 - accuracy: 0.6116 - val_loss: 0.6538 - val_accuracy: 0.6095\n",
            "Epoch 49/100\n",
            "3883/3883 [==============================] - 13s 3ms/step - loss: 0.6404 - accuracy: 0.6195 - val_loss: 0.6498 - val_accuracy: 0.6243\n",
            "Epoch 50/100\n",
            "3883/3883 [==============================] - 12s 3ms/step - loss: 0.6439 - accuracy: 0.6187 - val_loss: 0.6706 - val_accuracy: 0.6170\n",
            "Epoch 51/100\n",
            "3883/3883 [==============================] - 11s 3ms/step - loss: 0.6402 - accuracy: 0.6184 - val_loss: 0.6671 - val_accuracy: 0.5682\n",
            "Epoch 52/100\n",
            "3883/3883 [==============================] - 11s 3ms/step - loss: 0.6497 - accuracy: 0.6102 - val_loss: 0.6489 - val_accuracy: 0.6142\n",
            "Epoch 53/100\n",
            "3883/3883 [==============================] - 11s 3ms/step - loss: 0.6413 - accuracy: 0.6173 - val_loss: 0.6472 - val_accuracy: 0.6135\n",
            "Epoch 54/100\n",
            "3883/3883 [==============================] - 14s 4ms/step - loss: 0.6372 - accuracy: 0.6207 - val_loss: 0.6523 - val_accuracy: 0.6215\n",
            "Epoch 55/100\n",
            "3883/3883 [==============================] - 12s 3ms/step - loss: 0.6403 - accuracy: 0.6134 - val_loss: 0.6449 - val_accuracy: 0.6169\n",
            "Epoch 56/100\n",
            "3883/3883 [==============================] - 13s 3ms/step - loss: 0.6421 - accuracy: 0.6154 - val_loss: 0.6538 - val_accuracy: 0.6174\n",
            "Epoch 57/100\n",
            "3883/3883 [==============================] - 13s 3ms/step - loss: 0.6430 - accuracy: 0.6173 - val_loss: 0.6650 - val_accuracy: 0.6087\n",
            "Epoch 58/100\n",
            "3883/3883 [==============================] - 12s 3ms/step - loss: 0.6425 - accuracy: 0.6193 - val_loss: 0.6401 - val_accuracy: 0.6168\n",
            "Epoch 59/100\n",
            "3883/3883 [==============================] - 13s 3ms/step - loss: 0.6407 - accuracy: 0.6180 - val_loss: 0.6492 - val_accuracy: 0.6185\n",
            "Epoch 60/100\n",
            "3883/3883 [==============================] - 11s 3ms/step - loss: 0.6406 - accuracy: 0.6193 - val_loss: 0.6530 - val_accuracy: 0.6117\n",
            "Epoch 61/100\n",
            "3883/3883 [==============================] - 11s 3ms/step - loss: 0.6504 - accuracy: 0.6165 - val_loss: 0.6514 - val_accuracy: 0.6179\n",
            "Epoch 62/100\n",
            "3883/3883 [==============================] - 12s 3ms/step - loss: 0.6411 - accuracy: 0.6224 - val_loss: 0.6532 - val_accuracy: 0.6163\n",
            "Epoch 63/100\n",
            "3883/3883 [==============================] - 11s 3ms/step - loss: 0.6396 - accuracy: 0.6147 - val_loss: 0.6487 - val_accuracy: 0.6052\n",
            "Epoch 64/100\n",
            "3883/3883 [==============================] - 13s 3ms/step - loss: 0.6421 - accuracy: 0.6157 - val_loss: 0.6776 - val_accuracy: 0.5936\n",
            "Epoch 65/100\n",
            "3883/3883 [==============================] - 14s 3ms/step - loss: 0.6530 - accuracy: 0.6221 - val_loss: 0.6442 - val_accuracy: 0.6222\n",
            "Epoch 66/100\n",
            "3883/3883 [==============================] - 12s 3ms/step - loss: 0.6476 - accuracy: 0.6180 - val_loss: 0.6618 - val_accuracy: 0.5950\n",
            "Epoch 67/100\n",
            "3883/3883 [==============================] - 12s 3ms/step - loss: 0.6464 - accuracy: 0.6141 - val_loss: 0.6413 - val_accuracy: 0.6192\n",
            "Epoch 68/100\n",
            "3883/3883 [==============================] - 12s 3ms/step - loss: 0.6412 - accuracy: 0.6231 - val_loss: 0.6804 - val_accuracy: 0.6208\n",
            "Epoch 69/100\n",
            "3883/3883 [==============================] - 12s 3ms/step - loss: 0.6398 - accuracy: 0.6236 - val_loss: 0.6475 - val_accuracy: 0.6212\n",
            "Epoch 70/100\n",
            "3883/3883 [==============================] - 12s 3ms/step - loss: 0.6385 - accuracy: 0.6187 - val_loss: 0.6519 - val_accuracy: 0.6122\n",
            "Epoch 71/100\n",
            "3883/3883 [==============================] - 10s 3ms/step - loss: 0.6374 - accuracy: 0.6225 - val_loss: 0.6569 - val_accuracy: 0.6175\n",
            "Epoch 72/100\n",
            "3883/3883 [==============================] - 13s 3ms/step - loss: 0.6427 - accuracy: 0.6213 - val_loss: 0.6494 - val_accuracy: 0.6221\n",
            "Epoch 73/100\n",
            "3883/3883 [==============================] - 13s 3ms/step - loss: 0.6553 - accuracy: 0.6240 - val_loss: 0.6892 - val_accuracy: 0.6071\n",
            "Epoch 74/100\n",
            "3883/3883 [==============================] - 12s 3ms/step - loss: 0.6474 - accuracy: 0.6210 - val_loss: 0.6606 - val_accuracy: 0.6142\n",
            "Epoch 75/100\n",
            "3883/3883 [==============================] - 13s 3ms/step - loss: 0.6414 - accuracy: 0.6236 - val_loss: 0.6586 - val_accuracy: 0.6172\n",
            "Epoch 76/100\n",
            "3883/3883 [==============================] - 13s 3ms/step - loss: 0.6399 - accuracy: 0.6270 - val_loss: 0.6469 - val_accuracy: 0.6244\n",
            "Epoch 77/100\n",
            "3883/3883 [==============================] - 12s 3ms/step - loss: 0.6409 - accuracy: 0.6245 - val_loss: 0.6439 - val_accuracy: 0.6229\n",
            "Epoch 78/100\n",
            "3883/3883 [==============================] - 12s 3ms/step - loss: 0.6398 - accuracy: 0.6238 - val_loss: 0.6570 - val_accuracy: 0.6237\n",
            "Epoch 79/100\n",
            "3883/3883 [==============================] - 12s 3ms/step - loss: 0.6397 - accuracy: 0.6238 - val_loss: 0.6367 - val_accuracy: 0.6269\n",
            "Epoch 80/100\n",
            "3883/3883 [==============================] - 12s 3ms/step - loss: 0.6394 - accuracy: 0.6251 - val_loss: 0.6440 - val_accuracy: 0.6177\n",
            "Epoch 81/100\n",
            "3883/3883 [==============================] - 12s 3ms/step - loss: 0.6337 - accuracy: 0.6265 - val_loss: 0.6398 - val_accuracy: 0.6246\n",
            "Epoch 82/100\n",
            "3883/3883 [==============================] - 12s 3ms/step - loss: 0.6393 - accuracy: 0.6228 - val_loss: 0.6425 - val_accuracy: 0.6211\n",
            "Epoch 83/100\n",
            "3883/3883 [==============================] - 11s 3ms/step - loss: 0.6367 - accuracy: 0.6277 - val_loss: 0.6534 - val_accuracy: 0.6288\n",
            "Epoch 84/100\n",
            "3883/3883 [==============================] - 12s 3ms/step - loss: 0.6389 - accuracy: 0.6248 - val_loss: 0.6481 - val_accuracy: 0.6154\n",
            "Epoch 85/100\n",
            "3883/3883 [==============================] - 13s 3ms/step - loss: 0.6380 - accuracy: 0.6263 - val_loss: 0.6438 - val_accuracy: 0.6175\n",
            "Epoch 86/100\n",
            "3883/3883 [==============================] - 13s 3ms/step - loss: 0.6419 - accuracy: 0.6254 - val_loss: 0.6548 - val_accuracy: 0.6195\n",
            "Epoch 87/100\n",
            "3883/3883 [==============================] - 13s 3ms/step - loss: 0.6365 - accuracy: 0.6278 - val_loss: 0.6561 - val_accuracy: 0.6170\n",
            "Epoch 88/100\n",
            "3883/3883 [==============================] - 15s 4ms/step - loss: 0.6373 - accuracy: 0.6263 - val_loss: 0.6740 - val_accuracy: 0.5987\n",
            "Epoch 89/100\n",
            "3883/3883 [==============================] - 13s 3ms/step - loss: 0.6433 - accuracy: 0.6259 - val_loss: 0.6456 - val_accuracy: 0.6181\n",
            "Epoch 90/100\n",
            "3883/3883 [==============================] - 13s 3ms/step - loss: 0.6415 - accuracy: 0.6213 - val_loss: 0.6512 - val_accuracy: 0.6227\n",
            "Epoch 91/100\n",
            "3883/3883 [==============================] - 13s 3ms/step - loss: 0.6355 - accuracy: 0.6275 - val_loss: 0.6575 - val_accuracy: 0.6193\n",
            "Epoch 92/100\n",
            "3883/3883 [==============================] - 13s 3ms/step - loss: 0.6377 - accuracy: 0.6272 - val_loss: 0.6589 - val_accuracy: 0.6239\n",
            "Epoch 93/100\n",
            "3883/3883 [==============================] - 12s 3ms/step - loss: 0.6604 - accuracy: 0.6256 - val_loss: 0.6612 - val_accuracy: 0.6230\n",
            "Epoch 94/100\n",
            "3883/3883 [==============================] - 12s 3ms/step - loss: 0.6547 - accuracy: 0.6269 - val_loss: 0.6562 - val_accuracy: 0.6202\n",
            "Epoch 95/100\n",
            "3883/3883 [==============================] - 12s 3ms/step - loss: 0.6544 - accuracy: 0.6268 - val_loss: 0.6837 - val_accuracy: 0.6132\n",
            "Epoch 96/100\n",
            "3883/3883 [==============================] - 11s 3ms/step - loss: 0.6552 - accuracy: 0.6251 - val_loss: 0.6615 - val_accuracy: 0.6190\n",
            "Epoch 97/100\n",
            "3883/3883 [==============================] - 13s 3ms/step - loss: 0.6586 - accuracy: 0.6215 - val_loss: 0.6714 - val_accuracy: 0.6127\n",
            "Epoch 98/100\n",
            "3883/3883 [==============================] - 13s 3ms/step - loss: 0.6708 - accuracy: 0.6242 - val_loss: 0.6865 - val_accuracy: 0.6233\n",
            "Epoch 99/100\n",
            "3883/3883 [==============================] - 12s 3ms/step - loss: 0.6671 - accuracy: 0.6249 - val_loss: 0.6719 - val_accuracy: 0.6271\n",
            "Epoch 100/100\n",
            "3883/3883 [==============================] - 13s 3ms/step - loss: 0.6506 - accuracy: 0.6250 - val_loss: 0.6446 - val_accuracy: 0.6189\n"
          ]
        }
      ]
    },
    {
      "cell_type": "code",
      "source": [
        "Model2.save('/content/drive/MyDrive/Trojan_Models/Final_Model2')"
      ],
      "metadata": {
        "colab": {
          "base_uri": "https://localhost:8080/"
        },
        "id": "yYDokTszy7DJ",
        "outputId": "3b9f1fdf-a399-4b2f-f0ed-cfa3b42bed0e"
      },
      "execution_count": null,
      "outputs": [
        {
          "output_type": "stream",
          "name": "stderr",
          "text": [
            "WARNING:absl:Found untraced functions such as _update_step_xla while saving (showing 1 of 1). These functions will not be directly callable after loading.\n"
          ]
        }
      ]
    },
    {
      "cell_type": "code",
      "source": [
        "from tensorflow.keras.models import load_model\n",
        "\n",
        "model = load_model('/content/drive/MyDrive/Trojan_Models/Final_Model2')\n",
        "predictions = model.predict(X_test_slc)\n",
        "from sklearn.metrics import accuracy_score\n",
        "accuracy_score(y_test,(predictions.flatten() > 0.5).astype(int))"
      ],
      "metadata": {
        "colab": {
          "base_uri": "https://localhost:8080/"
        },
        "id": "UYfNNwzC8vog",
        "outputId": "855d75c2-5cea-4a8d-a73d-24b00f2632c9"
      },
      "execution_count": null,
      "outputs": [
        {
          "output_type": "stream",
          "name": "stdout",
          "text": [
            "555/555 [==============================] - 1s 2ms/step\n"
          ]
        },
        {
          "output_type": "execute_result",
          "data": {
            "text/plain": [
              "0.5011549946475857"
            ]
          },
          "metadata": {},
          "execution_count": 38
        }
      ]
    }
  ]
}